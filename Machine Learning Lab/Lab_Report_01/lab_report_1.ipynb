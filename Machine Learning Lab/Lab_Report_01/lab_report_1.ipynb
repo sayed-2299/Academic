{
  "nbformat": 4,
  "nbformat_minor": 0,
  "metadata": {
    "colab": {
      "provenance": []
    },
    "kernelspec": {
      "name": "python3",
      "display_name": "Python 3"
    },
    "language_info": {
      "name": "python"
    }
  },
  "cells": [
    {
      "cell_type": "code",
      "execution_count": 8,
      "metadata": {
        "colab": {
          "base_uri": "https://localhost:8080/"
        },
        "id": "eriQIPN0rELw",
        "outputId": "cc4ab9ff-fea3-479e-bd37-90d796c03eaa"
      },
      "outputs": [
        {
          "output_type": "stream",
          "name": "stdout",
          "text": [
            "   Weight  Sweetness   Label\n",
            "0     150          7   Apple\n",
            "1     170          6   Apple\n",
            "2     130          9  Orange\n",
            "3     120          8  Orange\n",
            "4     180          6   Apple\n",
            "5     140          8  Orange\n",
            "6     160          5   Apple\n",
            "7     135          9  Orange\n"
          ]
        }
      ],
      "source": [
        "import pandas as pd\n",
        "\n",
        "df = pd.read_csv(\"fruits.csv\")\n",
        "print(df)"
      ]
    },
    {
      "cell_type": "code",
      "source": [
        "import math\n",
        "from collections import Counter\n",
        "\n",
        "data = df.values.tolist()\n",
        "\n",
        "def euclidean_distance(p1, p2):\n",
        "    return math.sqrt((p1[0]-p2[0])**2 + (p1[1]-p2[1])**2)\n",
        "\n",
        "\n",
        "def knn_predict(data, new_point, k=3):\n",
        "    distances = []\n",
        "    for row in data:\n",
        "        features, label = row[:-1], row[-1]\n",
        "        dist = euclidean_distance(features, new_point)\n",
        "        distances.append((dist, label))\n",
        "    distances.sort(key=lambda x: x[0])\n",
        "\n",
        "    nearest_labels = [point[1] for point in distances[:k]]\n",
        "\n",
        "    count={}\n",
        "    for i in nearest_labels:\n",
        "      if i in count:\n",
        "        count[i]+=1\n",
        "      else:\n",
        "        count[i]=1\n",
        "\n",
        "    prediction =None\n",
        "    max_count=-1\n",
        "\n",
        "    for lbl,count in count.items():\n",
        "      if count > max_count:\n",
        "        max_count=count\n",
        "        prediction=lbl\n",
        "\n",
        "\n",
        "\n",
        "\n",
        "    return prediction\n",
        "\n",
        "w = float(input(\"Enter fruit weight (g): \"))\n",
        "s = float(input(\"Enter fruit sweetness (1-10): \"))\n",
        "new_fruit = [w, s]\n",
        "\n",
        "result = knn_predict(data, new_fruit, k=3)\n",
        "print(\"\\nPredicted Fruit:\", result)\n"
      ],
      "metadata": {
        "colab": {
          "base_uri": "https://localhost:8080/"
        },
        "id": "g9xm-zeS4GXd",
        "outputId": "7b55a839-01d6-4d3d-a10b-23655e508cfd"
      },
      "execution_count": 7,
      "outputs": [
        {
          "output_type": "stream",
          "name": "stdout",
          "text": [
            "Enter fruit weight (g): 160\n",
            "Enter fruit sweetness (1-10): 8\n",
            "\n",
            "Predicted Fruit: Apple\n"
          ]
        }
      ]
    }
  ]
}