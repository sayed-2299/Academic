{
  "cells": [
    {
      "cell_type": "code",
      "execution_count": 7,
      "metadata": {
        "colab": {
          "base_uri": "https://localhost:8080/"
        },
        "collapsed": true,
        "id": "eD_K_yCxK6KB",
        "outputId": "d6b0e559-18cb-46ab-9c76-b35097270e24"
      },
      "outputs": [
        {
          "output_type": "stream",
          "name": "stdout",
          "text": [
            "Requirement already satisfied: tensorflow in /usr/local/lib/python3.12/dist-packages (2.19.0)\n",
            "Requirement already satisfied: absl-py>=1.0.0 in /usr/local/lib/python3.12/dist-packages (from tensorflow) (1.4.0)\n",
            "Requirement already satisfied: astunparse>=1.6.0 in /usr/local/lib/python3.12/dist-packages (from tensorflow) (1.6.3)\n",
            "Requirement already satisfied: flatbuffers>=24.3.25 in /usr/local/lib/python3.12/dist-packages (from tensorflow) (25.2.10)\n",
            "Requirement already satisfied: gast!=0.5.0,!=0.5.1,!=0.5.2,>=0.2.1 in /usr/local/lib/python3.12/dist-packages (from tensorflow) (0.6.0)\n",
            "Requirement already satisfied: google-pasta>=0.1.1 in /usr/local/lib/python3.12/dist-packages (from tensorflow) (0.2.0)\n",
            "Requirement already satisfied: libclang>=13.0.0 in /usr/local/lib/python3.12/dist-packages (from tensorflow) (18.1.1)\n",
            "Requirement already satisfied: opt-einsum>=2.3.2 in /usr/local/lib/python3.12/dist-packages (from tensorflow) (3.4.0)\n",
            "Requirement already satisfied: packaging in /usr/local/lib/python3.12/dist-packages (from tensorflow) (25.0)\n",
            "Requirement already satisfied: protobuf!=4.21.0,!=4.21.1,!=4.21.2,!=4.21.3,!=4.21.4,!=4.21.5,<6.0.0dev,>=3.20.3 in /usr/local/lib/python3.12/dist-packages (from tensorflow) (5.29.5)\n",
            "Requirement already satisfied: requests<3,>=2.21.0 in /usr/local/lib/python3.12/dist-packages (from tensorflow) (2.32.4)\n",
            "Requirement already satisfied: setuptools in /usr/local/lib/python3.12/dist-packages (from tensorflow) (75.2.0)\n",
            "Requirement already satisfied: six>=1.12.0 in /usr/local/lib/python3.12/dist-packages (from tensorflow) (1.17.0)\n",
            "Requirement already satisfied: termcolor>=1.1.0 in /usr/local/lib/python3.12/dist-packages (from tensorflow) (3.1.0)\n",
            "Requirement already satisfied: typing-extensions>=3.6.6 in /usr/local/lib/python3.12/dist-packages (from tensorflow) (4.14.1)\n",
            "Requirement already satisfied: wrapt>=1.11.0 in /usr/local/lib/python3.12/dist-packages (from tensorflow) (1.17.3)\n",
            "Requirement already satisfied: grpcio<2.0,>=1.24.3 in /usr/local/lib/python3.12/dist-packages (from tensorflow) (1.74.0)\n",
            "Requirement already satisfied: tensorboard~=2.19.0 in /usr/local/lib/python3.12/dist-packages (from tensorflow) (2.19.0)\n",
            "Requirement already satisfied: keras>=3.5.0 in /usr/local/lib/python3.12/dist-packages (from tensorflow) (3.10.0)\n",
            "Requirement already satisfied: numpy<2.2.0,>=1.26.0 in /usr/local/lib/python3.12/dist-packages (from tensorflow) (2.0.2)\n",
            "Requirement already satisfied: h5py>=3.11.0 in /usr/local/lib/python3.12/dist-packages (from tensorflow) (3.14.0)\n",
            "Requirement already satisfied: ml-dtypes<1.0.0,>=0.5.1 in /usr/local/lib/python3.12/dist-packages (from tensorflow) (0.5.3)\n",
            "Requirement already satisfied: wheel<1.0,>=0.23.0 in /usr/local/lib/python3.12/dist-packages (from astunparse>=1.6.0->tensorflow) (0.45.1)\n",
            "Requirement already satisfied: rich in /usr/local/lib/python3.12/dist-packages (from keras>=3.5.0->tensorflow) (13.9.4)\n",
            "Requirement already satisfied: namex in /usr/local/lib/python3.12/dist-packages (from keras>=3.5.0->tensorflow) (0.1.0)\n",
            "Requirement already satisfied: optree in /usr/local/lib/python3.12/dist-packages (from keras>=3.5.0->tensorflow) (0.17.0)\n",
            "Requirement already satisfied: charset_normalizer<4,>=2 in /usr/local/lib/python3.12/dist-packages (from requests<3,>=2.21.0->tensorflow) (3.4.3)\n",
            "Requirement already satisfied: idna<4,>=2.5 in /usr/local/lib/python3.12/dist-packages (from requests<3,>=2.21.0->tensorflow) (3.10)\n",
            "Requirement already satisfied: urllib3<3,>=1.21.1 in /usr/local/lib/python3.12/dist-packages (from requests<3,>=2.21.0->tensorflow) (2.5.0)\n",
            "Requirement already satisfied: certifi>=2017.4.17 in /usr/local/lib/python3.12/dist-packages (from requests<3,>=2.21.0->tensorflow) (2025.8.3)\n",
            "Requirement already satisfied: markdown>=2.6.8 in /usr/local/lib/python3.12/dist-packages (from tensorboard~=2.19.0->tensorflow) (3.8.2)\n",
            "Requirement already satisfied: tensorboard-data-server<0.8.0,>=0.7.0 in /usr/local/lib/python3.12/dist-packages (from tensorboard~=2.19.0->tensorflow) (0.7.2)\n",
            "Requirement already satisfied: werkzeug>=1.0.1 in /usr/local/lib/python3.12/dist-packages (from tensorboard~=2.19.0->tensorflow) (3.1.3)\n",
            "Requirement already satisfied: MarkupSafe>=2.1.1 in /usr/local/lib/python3.12/dist-packages (from werkzeug>=1.0.1->tensorboard~=2.19.0->tensorflow) (3.0.2)\n",
            "Requirement already satisfied: markdown-it-py>=2.2.0 in /usr/local/lib/python3.12/dist-packages (from rich->keras>=3.5.0->tensorflow) (4.0.0)\n",
            "Requirement already satisfied: pygments<3.0.0,>=2.13.0 in /usr/local/lib/python3.12/dist-packages (from rich->keras>=3.5.0->tensorflow) (2.19.2)\n",
            "Requirement already satisfied: mdurl~=0.1 in /usr/local/lib/python3.12/dist-packages (from markdown-it-py>=2.2.0->rich->keras>=3.5.0->tensorflow) (0.1.2)\n"
          ]
        }
      ],
      "source": [
        "!pip install tensorflow\n",
        "import pandas as pd\n",
        "import numpy as np\n",
        "from sklearn.model_selection import train_test_split\n",
        "from sklearn.metrics import classification_report\n",
        "import tensorflow as tf\n",
        "from tensorflow.keras.preprocessing.text import Tokenizer\n",
        "from tensorflow.keras.preprocessing.sequence import pad_sequences\n",
        "from tensorflow.keras.layers import Input, Embedding, Bidirectional, LSTM, Dense, Dropout\n",
        "from tensorflow.keras.models import Model\n",
        "from tensorflow.keras.optimizers import Adam\n",
        "import matplotlib.pyplot as plt\n",
        "from google.colab import drive\n",
        "import os"
      ]
    },
    {
      "cell_type": "code",
      "execution_count": 8,
      "metadata": {
        "colab": {
          "base_uri": "https://localhost:8080/"
        },
        "id": "ZEOj-b47K_3O",
        "outputId": "48c91440-32ee-4834-983f-fd2219855ed4"
      },
      "outputs": [
        {
          "output_type": "stream",
          "name": "stdout",
          "text": [
            "Mounted at /content/drive\n"
          ]
        }
      ],
      "source": [
        "drive.mount('/content/drive', force_remount=True)"
      ]
    },
    {
      "cell_type": "code",
      "execution_count": 9,
      "metadata": {
        "id": "D4LIGroALE-b"
      },
      "outputs": [],
      "source": [
        "base_path = '/content/drive/My Drive/Colab Notebooks/Project'\n",
        "json_file = os.path.join(base_path, 'Sarcasm_Headlines_Dataset_v2.json')\n",
        "csv_file = os.path.join(base_path, 'input_dataset.csv')\n",
        "glove_file = os.path.join(base_path, 'glove.6B.100d.txt')"
      ]
    },
    {
      "cell_type": "code",
      "execution_count": 10,
      "metadata": {
        "colab": {
          "base_uri": "https://localhost:8080/"
        },
        "id": "3vm1CKvBLFuX",
        "outputId": "911a8abd-bda2-44f7-a80f-ce0cff3f4544"
      },
      "outputs": [
        {
          "output_type": "stream",
          "name": "stdout",
          "text": [
            "Sample Data from Sarcasm_Headlines_Dataset_v2.json\n",
            "Sample headlines and sarcasm labels from original dataset.\n",
            "----------------------------------------\n",
            "   is_sarcastic                                           headline  \\\n",
            "0             1  thirtysomething scientists unveil doomsday clo...   \n",
            "1             0  dem rep. totally nails why congress is falling...   \n",
            "2             0  eat your veggies: 9 deliciously different recipes   \n",
            "3             1  inclement weather prevents liar from getting t...   \n",
            "4             1  mother comes pretty close to using word 'strea...   \n",
            "\n",
            "                                        article_link  \n",
            "0  https://www.theonion.com/thirtysomething-scien...  \n",
            "1  https://www.huffingtonpost.com/entry/donna-edw...  \n",
            "2  https://www.huffingtonpost.com/entry/eat-your-...  \n",
            "3  https://local.theonion.com/inclement-weather-p...  \n",
            "4  https://www.theonion.com/mother-comes-pretty-c...  \n"
          ]
        }
      ],
      "source": [
        "print(\"Sample Data from Sarcasm_Headlines_Dataset_v2.json\")\n",
        "print(\"Sample headlines and sarcasm labels from original dataset.\")\n",
        "print(\"-\" * 40)\n",
        "df_json = pd.read_json(json_file, lines=True)\n",
        "print(df_json.head(5))\n"
      ]
    },
    {
      "cell_type": "code",
      "execution_count": 11,
      "metadata": {
        "colab": {
          "base_uri": "https://localhost:8080/"
        },
        "id": "-Lg3RD08LZG-",
        "outputId": "c7677800-f40e-4179-9412-c6627ceec498"
      },
      "outputs": [
        {
          "output_type": "stream",
          "name": "stdout",
          "text": [
            "\n",
            "Number of rows: 5148\n",
            "Columns: Index(['headline', 'data', 'target', 'article_link'], dtype='object')\n"
          ]
        }
      ],
      "source": [
        "#Load input dataset\n",
        "\n",
        "df = pd.read_csv(csv_file)\n",
        "df_subset = df.sample(frac=0.5, random_state=42)\n",
        "print(\"\\nNumber of rows:\", len(df_subset))\n",
        "print(\"Columns:\", df_subset.columns)\n",
        "\n",
        "if df_subset.empty:\n",
        "    raise ValueError(\"No valid data loaded\")"
      ]
    },
    {
      "cell_type": "code",
      "execution_count": 12,
      "metadata": {
        "id": "saQYEAjoLx6A"
      },
      "outputs": [],
      "source": [
        "# load glove embeddings\n",
        "\n",
        "def load_glove_embeddings(glove_file, word_index, embedding_dim=100):\n",
        "    embeddings_index = {}\n",
        "    with open(glove_file, encoding='utf-8') as f:\n",
        "        for line in f:\n",
        "            values = line.split()\n",
        "            word = values[0]\n",
        "            coefs = np.asarray(values[1:], dtype='float32')\n",
        "            embeddings_index[word] = coefs\n",
        "    vocab_size = len(word_index) + 1\n",
        "    embedding_matrix = np.zeros((vocab_size, embedding_dim))\n",
        "    for word, i in word_index.items():\n",
        "        embedding_vector = embeddings_index.get(word)\n",
        "        if embedding_vector is not None:\n",
        "            embedding_matrix[i] = embedding_vector\n",
        "    return embedding_matrix, vocab_size"
      ]
    },
    {
      "cell_type": "code",
      "execution_count": 13,
      "metadata": {
        "id": "1iTzX3BuMeB8"
      },
      "outputs": [],
      "source": [
        "# Preprocess text\n",
        "\n",
        "def preprocess_text(texts):\n",
        "    word_counts = texts.str.split().str.len()\n",
        "    max_len = int(max(word_counts))\n",
        "    tokenizer = Tokenizer(oov_token='<OOV>')\n",
        "    tokenizer.fit_on_texts(texts)\n",
        "    vocab_size = len(tokenizer.word_index) + 1\n",
        "    sequences = tokenizer.texts_to_sequences(texts)\n",
        "    padded_sequences = pad_sequences(sequences, maxlen=max_len, padding='post', truncating='post')\n",
        "    return padded_sequences, tokenizer.word_index, max_len, vocab_size"
      ]
    },
    {
      "cell_type": "code",
      "execution_count": 14,
      "metadata": {
        "id": "dQhF8dWcMl4H"
      },
      "outputs": [],
      "source": [
        "# build Bi-LSTM model\n",
        "\n",
        "def build_bilstm_model(vocab_size, embedding_dim, max_len, embedding_matrix):\n",
        "    input_layer = Input(shape=(max_len,))\n",
        "    embedding = Embedding(vocab_size, embedding_dim, weights=[embedding_matrix], trainable=False)(input_layer)\n",
        "    bilstm = Bidirectional(LSTM(32))(embedding)\n",
        "    dropout = Dropout(0.5)(bilstm)\n",
        "    dense = Dense(16, activation='relu')(dropout)\n",
        "    output = Dense(1, activation='sigmoid')(dense)\n",
        "    model = Model(inputs=input_layer, outputs=output)\n",
        "    model.compile(optimizer=Adam(learning_rate=0.001), loss='binary_crossentropy', metrics=['accuracy'])\n",
        "    return model"
      ]
    },
    {
      "cell_type": "code",
      "execution_count": 15,
      "metadata": {
        "colab": {
          "base_uri": "https://localhost:8080/"
        },
        "id": "dS7gKWqgNZR_",
        "outputId": "8db4f3c3-3aea-40a6-c76d-a080fd0bb3a4"
      },
      "outputs": [
        {
          "output_type": "stream",
          "name": "stdout",
          "text": [
            "\n",
            "Training Bi-LSTM on Headline\n",
            "----------------------------------------\n",
            "Parameters: max_len=27, vocab_size=12231, batch_size=32\n",
            "Epoch 1/10\n",
            "\u001b[1m103/103\u001b[0m \u001b[32m━━━━━━━━━━━━━━━━━━━━\u001b[0m\u001b[37m\u001b[0m \u001b[1m9s\u001b[0m 58ms/step - accuracy: 0.5209 - loss: 0.6941 - val_accuracy: 0.6687 - val_loss: 0.6214\n",
            "Epoch 2/10\n",
            "\u001b[1m103/103\u001b[0m \u001b[32m━━━━━━━━━━━━━━━━━━━━\u001b[0m\u001b[37m\u001b[0m \u001b[1m5s\u001b[0m 48ms/step - accuracy: 0.6921 - loss: 0.5901 - val_accuracy: 0.7269 - val_loss: 0.5292\n",
            "Epoch 3/10\n",
            "\u001b[1m103/103\u001b[0m \u001b[32m━━━━━━━━━━━━━━━━━━━━\u001b[0m\u001b[37m\u001b[0m \u001b[1m4s\u001b[0m 35ms/step - accuracy: 0.7701 - loss: 0.4915 - val_accuracy: 0.7609 - val_loss: 0.4881\n",
            "Epoch 4/10\n",
            "\u001b[1m103/103\u001b[0m \u001b[32m━━━━━━━━━━━━━━━━━━━━\u001b[0m\u001b[37m\u001b[0m \u001b[1m5s\u001b[0m 30ms/step - accuracy: 0.8005 - loss: 0.4399 - val_accuracy: 0.7828 - val_loss: 0.4600\n",
            "Epoch 5/10\n",
            "\u001b[1m103/103\u001b[0m \u001b[32m━━━━━━━━━━━━━━━━━━━━\u001b[0m\u001b[37m\u001b[0m \u001b[1m2s\u001b[0m 22ms/step - accuracy: 0.8376 - loss: 0.3786 - val_accuracy: 0.7913 - val_loss: 0.4364\n",
            "Epoch 6/10\n",
            "\u001b[1m103/103\u001b[0m \u001b[32m━━━━━━━━━━━━━━━━━━━━\u001b[0m\u001b[37m\u001b[0m \u001b[1m2s\u001b[0m 21ms/step - accuracy: 0.8611 - loss: 0.3404 - val_accuracy: 0.7998 - val_loss: 0.4251\n",
            "Epoch 7/10\n",
            "\u001b[1m103/103\u001b[0m \u001b[32m━━━━━━━━━━━━━━━━━━━━\u001b[0m\u001b[37m\u001b[0m \u001b[1m3s\u001b[0m 21ms/step - accuracy: 0.8742 - loss: 0.3158 - val_accuracy: 0.8155 - val_loss: 0.4182\n",
            "Epoch 8/10\n",
            "\u001b[1m103/103\u001b[0m \u001b[32m━━━━━━━━━━━━━━━━━━━━\u001b[0m\u001b[37m\u001b[0m \u001b[1m2s\u001b[0m 21ms/step - accuracy: 0.8974 - loss: 0.2727 - val_accuracy: 0.7803 - val_loss: 0.5177\n",
            "Epoch 9/10\n",
            "\u001b[1m103/103\u001b[0m \u001b[32m━━━━━━━━━━━━━━━━━━━━\u001b[0m\u001b[37m\u001b[0m \u001b[1m4s\u001b[0m 36ms/step - accuracy: 0.8871 - loss: 0.2652 - val_accuracy: 0.8192 - val_loss: 0.4394\n",
            "Epoch 10/10\n",
            "\u001b[1m103/103\u001b[0m \u001b[32m━━━━━━━━━━━━━━━━━━━━\u001b[0m\u001b[37m\u001b[0m \u001b[1m4s\u001b[0m 21ms/step - accuracy: 0.9178 - loss: 0.2209 - val_accuracy: 0.8204 - val_loss: 0.4577\n",
            "\u001b[1m33/33\u001b[0m \u001b[32m━━━━━━━━━━━━━━━━━━━━\u001b[0m\u001b[37m\u001b[0m \u001b[1m1s\u001b[0m 15ms/step\n",
            "\n",
            "Headline Bi-LSTM Classification Report:\n",
            "               precision    recall  f1-score   support\n",
            "\n",
            "Non-Sarcastic       0.84      0.83      0.84       574\n",
            "    Sarcastic       0.79      0.80      0.80       456\n",
            "\n",
            "     accuracy                           0.82      1030\n",
            "    macro avg       0.82      0.82      0.82      1030\n",
            " weighted avg       0.82      0.82      0.82      1030\n",
            "\n"
          ]
        }
      ],
      "source": [
        "# train on headline\n",
        "\n",
        "print(\"\\nTraining Bi-LSTM on Headline\")\n",
        "print(\"-\" * 40)\n",
        "texts_h = df_subset['headline']\n",
        "labels = df_subset['target'].values\n",
        "X_h, word_index_h, max_len_h, vocab_size_h = preprocess_text(texts_h)\n",
        "embedding_matrix_h, vocab_size_h = load_glove_embeddings(glove_file, word_index_h)\n",
        "print(f\"Parameters: max_len={max_len_h}, vocab_size={vocab_size_h}, batch_size=32\")\n",
        "X_train_h, X_test_h, y_train_h, y_test_h = train_test_split(X_h, labels, test_size=0.2, random_state=42)\n",
        "model_h = build_bilstm_model(vocab_size_h, 100, max_len_h, embedding_matrix_h)\n",
        "history_h = model_h.fit(X_train_h, y_train_h, epochs=10, batch_size=32, validation_split=0.2, verbose=1)\n",
        "y_pred_h = (model_h.predict(X_test_h) > 0.5).astype(int)\n",
        "print(\"\\nHeadline Bi-LSTM Classification Report:\")\n",
        "report_h = classification_report(y_test_h, y_pred_h, target_names=['Non-Sarcastic', 'Sarcastic'], output_dict=True)\n",
        "print(classification_report(y_test_h, y_pred_h, target_names=['Non-Sarcastic', 'Sarcastic']))\n",
        "h_acc = report_h['accuracy']\n",
        "h_loss = model_h.evaluate(X_test_h, y_test_h, verbose=0)[0]"
      ]
    },
    {
      "cell_type": "code",
      "execution_count": 16,
      "metadata": {
        "colab": {
          "base_uri": "https://localhost:8080/"
        },
        "id": "-5LnrrLC087A",
        "outputId": "1cae9a05-fff3-4e69-d5c3-9cd6708e59fe"
      },
      "outputs": [
        {
          "output_type": "stream",
          "name": "stdout",
          "text": [
            "\n",
            "Training Bi-LSTM on Headline + Full Article\n",
            "----------------------------------------\n",
            "Parameters: max_len=6260, vocab_size=69567, batch_size=32\n",
            "Epoch 1/10\n",
            "\u001b[1m103/103\u001b[0m \u001b[32m━━━━━━━━━━━━━━━━━━━━\u001b[0m\u001b[37m\u001b[0m \u001b[1m440s\u001b[0m 4s/step - accuracy: 0.5744 - loss: 0.6745 - val_accuracy: 0.7670 - val_loss: 0.5216\n",
            "Epoch 2/10\n",
            "\u001b[1m103/103\u001b[0m \u001b[32m━━━━━━━━━━━━━━━━━━━━\u001b[0m\u001b[37m\u001b[0m \u001b[1m456s\u001b[0m 4s/step - accuracy: 0.7738 - loss: 0.4913 - val_accuracy: 0.7233 - val_loss: 0.5402\n",
            "Epoch 3/10\n",
            "\u001b[1m103/103\u001b[0m \u001b[32m━━━━━━━━━━━━━━━━━━━━\u001b[0m\u001b[37m\u001b[0m \u001b[1m447s\u001b[0m 4s/step - accuracy: 0.8209 - loss: 0.4022 - val_accuracy: 0.8216 - val_loss: 0.4047\n",
            "Epoch 4/10\n",
            "\u001b[1m103/103\u001b[0m \u001b[32m━━━━━━━━━━━━━━━━━━━━\u001b[0m\u001b[37m\u001b[0m \u001b[1m501s\u001b[0m 4s/step - accuracy: 0.8889 - loss: 0.2878 - val_accuracy: 0.9102 - val_loss: 0.2397\n",
            "Epoch 5/10\n",
            "\u001b[1m103/103\u001b[0m \u001b[32m━━━━━━━━━━━━━━━━━━━━\u001b[0m\u001b[37m\u001b[0m \u001b[1m500s\u001b[0m 4s/step - accuracy: 0.9114 - loss: 0.2363 - val_accuracy: 0.9260 - val_loss: 0.2146\n",
            "Epoch 6/10\n",
            "\u001b[1m103/103\u001b[0m \u001b[32m━━━━━━━━━━━━━━━━━━━━\u001b[0m\u001b[37m\u001b[0m \u001b[1m503s\u001b[0m 4s/step - accuracy: 0.9328 - loss: 0.1848 - val_accuracy: 0.9223 - val_loss: 0.2200\n",
            "Epoch 7/10\n",
            "\u001b[1m103/103\u001b[0m \u001b[32m━━━━━━━━━━━━━━━━━━━━\u001b[0m\u001b[37m\u001b[0m \u001b[1m431s\u001b[0m 4s/step - accuracy: 0.9218 - loss: 0.1844 - val_accuracy: 0.9357 - val_loss: 0.1918\n",
            "Epoch 8/10\n",
            "\u001b[1m103/103\u001b[0m \u001b[32m━━━━━━━━━━━━━━━━━━━━\u001b[0m\u001b[37m\u001b[0m \u001b[1m457s\u001b[0m 4s/step - accuracy: 0.9463 - loss: 0.1438 - val_accuracy: 0.9041 - val_loss: 0.2593\n",
            "Epoch 9/10\n",
            "\u001b[1m103/103\u001b[0m \u001b[32m━━━━━━━━━━━━━━━━━━━━\u001b[0m\u001b[37m\u001b[0m \u001b[1m447s\u001b[0m 4s/step - accuracy: 0.9502 - loss: 0.1322 - val_accuracy: 0.9272 - val_loss: 0.2120\n",
            "Epoch 10/10\n",
            "\u001b[1m103/103\u001b[0m \u001b[32m━━━━━━━━━━━━━━━━━━━━\u001b[0m\u001b[37m\u001b[0m \u001b[1m500s\u001b[0m 4s/step - accuracy: 0.9732 - loss: 0.0854 - val_accuracy: 0.9575 - val_loss: 0.1225\n",
            "\u001b[1m33/33\u001b[0m \u001b[32m━━━━━━━━━━━━━━━━━━━━\u001b[0m\u001b[37m\u001b[0m \u001b[1m38s\u001b[0m 1s/step\n",
            "\n",
            "Headline + Full Article Bi-LSTM Classification Report:\n",
            "               precision    recall  f1-score   support\n",
            "\n",
            "Non-Sarcastic       0.97      0.95      0.96       574\n",
            "    Sarcastic       0.94      0.96      0.95       456\n",
            "\n",
            "     accuracy                           0.95      1030\n",
            "    macro avg       0.95      0.96      0.95      1030\n",
            " weighted avg       0.95      0.95      0.95      1030\n",
            "\n"
          ]
        }
      ],
      "source": [
        "# train on headline + full article\n",
        "\n",
        "print(\"\\nTraining Bi-LSTM on Headline + Full Article\")\n",
        "print(\"-\" * 40)\n",
        "texts_d = df_subset['headline'] + \" \" + df_subset['data']\n",
        "X_d, word_index_d, max_len_d, vocab_size_d = preprocess_text(texts_d)\n",
        "embedding_matrix_d, vocab_size_d = load_glove_embeddings(glove_file, word_index_d)\n",
        "print(f\"Parameters: max_len={max_len_d}, vocab_size={vocab_size_d}, batch_size=32\")\n",
        "X_train_d, X_test_d, y_train_d, y_test_d = train_test_split(X_d, labels, test_size=0.2, random_state=42)\n",
        "model_d = build_bilstm_model(vocab_size_d, 100, max_len_d, embedding_matrix_d)\n",
        "history_d = model_d.fit(X_train_d, y_train_d, epochs=10, batch_size=32, validation_split=0.2, verbose=1)\n",
        "y_pred_d = (model_d.predict(X_test_d) > 0.5).astype(int)\n",
        "print(\"\\nHeadline + Full Article Bi-LSTM Classification Report:\")\n",
        "report_d = classification_report(y_test_d, y_pred_d, target_names=['Non-Sarcastic', 'Sarcastic'], output_dict=True)\n",
        "print(classification_report(y_test_d, y_pred_d, target_names=['Non-Sarcastic', 'Sarcastic']))\n",
        "d_acc = report_d['accuracy']\n",
        "d_loss = model_d.evaluate(X_test_d, y_test_d, verbose=0)[0]"
      ]
    },
    {
      "cell_type": "code",
      "execution_count": 17,
      "metadata": {
        "colab": {
          "base_uri": "https://localhost:8080/"
        },
        "id": "GNBCFAN41EP-",
        "outputId": "3270494c-93cd-4bfe-8575-099a10f1c842"
      },
      "outputs": [
        {
          "metadata": {
            "tags": null
          },
          "name": "stdout",
          "output_type": "stream",
          "text": [
            "\n",
            "Performance Comparison: Headline vs Headline + Full Article\n",
            "----------------------------------------\n",
            "                     Model  Test Accuracy\n",
            "0                 Headline       0.818447\n",
            "1  Headline + Full Article       0.954369\n"
          ]
        }
      ],
      "source": [
        "# Compare performance\n",
        "\n",
        "print(\"\\nPerformance Comparison: Headline vs Headline + Full Article\")\n",
        "print(\"-\" * 40)\n",
        "comparison_df = pd.DataFrame({\n",
        "    'Model': ['Headline', 'Headline + Full Article'],\n",
        "    'Test Accuracy': [h_acc, d_acc]\n",
        "})\n",
        "print(comparison_df)"
      ]
    },
    {
      "cell_type": "code",
      "execution_count": 18,
      "metadata": {
        "colab": {
          "base_uri": "https://localhost:8080/",
          "height": 407
        },
        "id": "4JAyMthc1IjD",
        "outputId": "9670ba8d-b334-4032-b1b2-ef5f0ffc7a47"
      },
      "outputs": [
        {
          "output_type": "display_data",
          "data": {
            "text/plain": [
              "<Figure size 600x400 with 1 Axes>"
            ],
            "image/png": "[encoded data removed]"
          },
          "metadata": {}
        }
      ],
      "source": [
        "# model accuracy\n",
        "\n",
        "plt.figure(figsize=(6, 4))\n",
        "plt.plot(history_h.history['accuracy'], label='Headline Train')\n",
        "plt.plot(history_h.history['val_accuracy'], label='Headline Val')\n",
        "plt.plot(history_d.history['accuracy'], label='Headline + Article Train')\n",
        "plt.plot(history_d.history['val_accuracy'], label='Headline + Article Val')\n",
        "\n",
        "plt.title('Model Accuracy')\n",
        "plt.xlabel('Epoch')\n",
        "plt.ylabel('Accuracy')\n",
        "plt.legend()\n",
        "plt.tight_layout()\n",
        "plt.show()\n"
      ]
    }
  ],
  "metadata": {
    "colab": {
      "provenance": []
    },
    "kernelspec": {
      "display_name": "Python 3",
      "name": "python3"
    },
    "language_info": {
      "name": "python"
    }
  },
  "nbformat": 4,
  "nbformat_minor": 0
}