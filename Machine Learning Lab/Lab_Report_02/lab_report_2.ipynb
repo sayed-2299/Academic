{
  "nbformat": 4,
  "nbformat_minor": 0,
  "metadata": {
    "colab": {
      "provenance": []
    },
    "kernelspec": {
      "name": "python3",
      "display_name": "Python 3"
    },
    "language_info": {
      "name": "python"
    }
  },
  "cells": [
    {
      "cell_type": "code",
      "execution_count": 13,
      "metadata": {
        "colab": {
          "base_uri": "https://localhost:8080/"
        },
        "id": "utgoKUttUYBC",
        "outputId": "0a67c292-e997-405b-a367-3bde50c9dc7d"
      },
      "outputs": [
        {
          "output_type": "stream",
          "name": "stdout",
          "text": [
            "Test Accuracy: 0.7\n"
          ]
        }
      ],
      "source": [
        "import numpy as np\n",
        "from sklearn.datasets import load_iris\n",
        "from sklearn.model_selection import train_test_split\n",
        "from sklearn.metrics import accuracy_score\n",
        "\n",
        "iris = load_iris()\n",
        "x = iris.data\n",
        "y = (iris.target == 0).astype(int)\n",
        "\n",
        "x_train, x_test, y_train, y_test = train_test_split(x, y, test_size=0.2, random_state=42)\n",
        "\n",
        "def sigmoid(z):\n",
        "    return 1 / (1 + np.exp(-z))\n",
        "\n",
        "weights = np.random.rand(x.shape[1])\n",
        "bias = 0\n",
        "learning_rate = 0.1\n",
        "epochs = 10\n",
        "\n",
        "for i in range(epochs):\n",
        "    linear_model = np.dot(x_train, weights) + bias\n",
        "\n",
        "    y_pred = sigmoid(linear_model)\n",
        "\n",
        "    dw = np.dot(x_train.T, (y_pred - y_train)) / len(y_train)\n",
        "    db = np.sum(y_pred - y_train) / len(y_train)\n",
        "\n",
        "    weights -= learning_rate * dw\n",
        "    bias -= learning_rate * db\n",
        "\n",
        "\n",
        "def predict(X):\n",
        "    prob = sigmoid(np.dot(X, weights) + bias)\n",
        "    return [1 if p > 0.5 else 0 for p in prob]\n",
        "\n",
        "y_test_pred = predict(x_test)\n",
        "accuracy = accuracy_score(y_test, y_test_pred)\n",
        "print(\"Test Accuracy:\", accuracy)\n"
      ]
    }
  ]
}